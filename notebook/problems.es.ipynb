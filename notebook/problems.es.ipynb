{
 "cells": [
  {
   "cell_type": "markdown",
   "id": "d9d036c6",
   "metadata": {},
   "source": [
    "# Problemas de prueba de hipótesis"
   ]
  },
  {
   "cell_type": "markdown",
   "id": "d157c4db",
   "metadata": {},
   "source": [
    "## Ejercicio 1\n",
    "\n",
    "Usted es un nutricionista que investiga dos tipos diferentes de dietas para ver si existe una diferencia significativa en la pérdida de peso después de un mes. Eliges dos grupos aleatorios de personas; un grupo sigue la primera dieta y el otro sigue la segunda. Al final del mes, se registra la pérdida de peso (en kg) de cada persona:\n",
    "\n",
    "| Diet 1 | Diet 2 |\n",
    "|:-------|:-------|\n",
    "| 2.0 | 3.0 |\n",
    "| 2.5 | 3.2 |\n",
    "| 3.0 | 3.1 |\n",
    "| 2.8 | 2.9 |\n",
    "| 2.3 | 2.8 |\n",
    "| 2.7 | 3.0 |\n",
    "| 2.5 | 3.2 |\n",
    "\n",
    "Con estos datos se busca responder a la siguiente pregunta: ¿Existe una diferencia significativa en la pérdida de peso promedio entre las personas que siguieron la primera dieta y las que siguieron la segunda dieta?\n",
    "\n",
    "Para sacar conclusiones, siga los siguientes puntos:\n",
    "\n",
    "-Enunciar la hipótesis: hipótesis nula y alternativa.\n",
    "-Realizar la prueba para comprobar la hipótesis. Puede utilizar la prueba t de Student.\n",
    "-Analizar las conclusiones."
   ]
  },
  {
   "cell_type": "code",
   "execution_count": 71,
   "id": "8e0f3cf0",
   "metadata": {},
   "outputs": [
    {
     "name": "stdout",
     "output_type": "stream",
     "text": [
      "Para verificar la hipótesis, primero se calcula el Z-score, que es el valor que describe la posición de un valor individual dentro de una distribución de datos. \n",
      "El Z-score indica cuántas desviaciones estándar está un valor de la media de la distribución. \n",
      "Si el Z-score de un dato es 0, significa que el dato es igual a la media de la distribución. Si es positivo, indica que está por encima, y negativo, por debajo.\n",
      "Z-score de Dieta 1: -1.4291265958112727\n",
      "P-value  de Dieta 1: 0.15296785060035134\n",
      "Z-score de Dieta 2: 1.429126595811275\n",
      "P-value  de Dieta 2: 0.15296785060035067\n",
      "Ya que la dieta 1 esta por debajo de la media se puede concluir que la dieta 2 es mejor con lo cual SI hay diferencia y la hipotesis Nula no es certera\n"
     ]
    }
   ],
   "source": [
    "# TODO\n",
    "import numpy as np\n",
    "import scipy.stats as stats\n",
    "import pandas as pd\n",
    "\n",
    "d = {\"Dieta 1\": [2.0, 2.5, 3.0, 2.8, 2.3, 2.7, 2.5], \n",
    "     \"Dieta 2\" :[3.0, 3.2, 3.1, 2.9, 2.8, 3.0, 3.2]}\n",
    "df = pd.DataFrame(data=d)\n",
    "pob = df.shape[0]*2\n",
    "pob_mean = np.mean(df[[\"Dieta 1\", \"Dieta 2\"]].values)\n",
    "pob_std = np.std(df[[\"Dieta 1\", \"Dieta 2\"]].values)\n",
    "\n",
    "#print(df)\n",
    "\n",
    "\n",
    "#d1_mean = np.mean(df[\"Dieta 1\"])\n",
    "#print(\"Promedio Dieta 1\",d1_mean)\n",
    "#d1_std = np.std(df[\"Dieta 1\"])\n",
    "#print(\"STD Dieta 1\",d1_std)\n",
    "\n",
    "#d2_mean = np.mean(df[\"Dieta 2\"])\n",
    "#print(\"Promedio Dieta 2\",d2_mean)\n",
    "#d2_std = np.std(df[\"Dieta 2\"])\n",
    "#print(\"STD Dieta 2\",d2_std)\n",
    "\n",
    "\n",
    "sample1 = df[\"Dieta 1\"].sample(n=4)\n",
    "sample1_mean = np.mean(df[\"Dieta 1\"])\n",
    "sample1_n = len(df[\"Dieta 1\"].sample(n=4))\n",
    "#print(sample1)\n",
    "\n",
    "sample2 = df[\"Dieta 2\"].sample(n=4)\n",
    "sample2_mean = np.mean(df[\"Dieta 2\"])\n",
    "sample2_n = len(df[\"Dieta 2\"].sample(n=4))\n",
    "#print(sample2)\n",
    "\n",
    "z_score_dieta1 = (sample1_mean - pob_mean) / (pob_std / np.sqrt(sample1_n))\n",
    "p_value_dieta1 = 2 * (1 - stats.norm.cdf(abs(z_score_dieta1)))\n",
    "\n",
    "print(\"Para verificar la hipótesis, primero se calcula el Z-score, que es el valor que describe la posición de un valor individual dentro de una distribución de datos. \")\n",
    "print(\"El Z-score indica cuántas desviaciones estándar está un valor de la media de la distribución. \")\n",
    "print(\"Si el Z-score de un dato es 0, significa que el dato es igual a la media de la distribución. Si es positivo, indica que está por encima, y negativo, por debajo.\")\n",
    "\n",
    "print(f\"Z-score de Dieta 1: {z_score_dieta1}\")\n",
    "print(f\"P-value  de Dieta 1: {p_value_dieta1}\")\n",
    "\n",
    "z_score_dieta2 = (sample2_mean - pob_mean) / (pob_std / np.sqrt(sample2_n))\n",
    "p_value_dieta2 = 2 * (1 - stats.norm.cdf(abs(z_score_dieta2)))\n",
    "\n",
    "print(f\"Z-score de Dieta 2: {z_score_dieta2}\")\n",
    "print(f\"P-value  de Dieta 2: {p_value_dieta2}\")\n",
    "print(\"Ya que la dieta 1 esta por debajo de la media se puede concluir que la dieta 2 es mejor con lo cual SI hay diferencia y la hipotesis Nula no es certera\")\n",
    "\n",
    "\n",
    "#Hipotesis nula = no dependencia, no diferencia o relacion entre dieta 1 y dieta 2\n",
    "#Hipotesis alternativa = lo contrario a la hipotesis Nula el cual reclama que la relacion, diferencia o dependencia existe\n",
    "\n",
    "\n"
   ]
  },
  {
   "cell_type": "markdown",
   "id": "f432e18e",
   "metadata": {},
   "source": [
    "## ANOVA\n",
    "\n",
    "**ANOVA** (*Analysis of Variance - Análisis de variación*) Es una técnica estadística utilizada para comparar las medidas de dos o más grupos. La idea detrás de ANOVA es descomponer la variabilidad total de los datos en dos componentes: variabilidad entre grupos y variabilidad dentro de los grupos:\n",
    "\n",
    "- **Variabilidad entre grupos**: Esta variabilidad se refiere a las diferencias entre las medias del grupo. Si esta variabilidad es considerablemente mayor que la variabilidad dentro del grupo, podría ser una indicación de que al menos una de las medias del grupo es diferente.\n",
    "- **Variabilidad dentro del grupo**: Esta variabilidad se refiere a la dispersión de los datos dentro de cada grupo. Si todos los grupos tienen una variabilidad similar, entonces cualquier diferencia notable en las medias de los grupos podría considerarse significativa.\n",
    "\n",
    "Las hipótesis en ANOVA suelen incluir:\n",
    "\n",
    "- **Hipótesis nula** ($H₀$): Las medias de todos los grupos son iguales.\n",
    "- **Hipótesis alternativa** ($H₁$): Al menos una de las medias del grupo es diferente.\n",
    "\n",
    "Si el resultado de la prueba ANOVA es significativo (por ejemplo, un valor p inferior a un umbral como 0,05), esto sugiere que al menos la media de un grupo es diferente."
   ]
  },
  {
   "cell_type": "markdown",
   "id": "fc5f3721",
   "metadata": {},
   "source": [
    "## Ejercicio 2\n",
    "\n",
    "Un agricultor decide probar tres tipos diferentes de fertilizantes para determinar si alguno es superior en términos de producción de maíz. El agricultor planta maíz en 15 parcelas idénticas y utiliza los tres fertilizantes (5 parcelas para cada tipo). Al final de la temporada mide el rendimiento de maíz (en kg) de cada parcela, con el siguiente resultado:\n",
    "\n",
    "| Fertilizante 1 | Fertilizante 2 | Fertilizante 3 |\n",
    "|:-------------|:-------------|:-------------|\n",
    "| 20 | 22 | 24 |\n",
    "| 21 | 21 | 23 |\n",
    "| 20 | 23 | 22 |\n",
    "| 19 | 22 | 23 |\n",
    "| 20 | 21 | 24 |\n",
    "\n",
    "Con estos datos busca responder la siguiente pregunta: ¿Existe una diferencia significativa en el rendimiento promedio del maíz entre los tres tipos de fertilizantes?\n",
    "\n",
    "Para ayudarte, sigue los siguientes puntos:\n",
    "\n",
    "-Enunciar la hipótesis: hipótesis nula y alternativa.\n",
    "-Realizar la prueba ANOVA.\n",
    "-Analizar las conclusiones.\n",
    "-Si un fertilizante es mejor que otro, ¿cómo podemos saberlo?"
   ]
  },
  {
   "cell_type": "code",
   "execution_count": 49,
   "id": "eecad0ca",
   "metadata": {},
   "outputs": [],
   "source": [
    "# TODO"
   ]
  }
 ],
 "metadata": {
  "kernelspec": {
   "display_name": "Python 3",
   "language": "python",
   "name": "python3"
  },
  "language_info": {
   "codemirror_mode": {
    "name": "ipython",
    "version": 3
   },
   "file_extension": ".py",
   "mimetype": "text/x-python",
   "name": "python",
   "nbconvert_exporter": "python",
   "pygments_lexer": "ipython3",
   "version": "3.11.4"
  }
 },
 "nbformat": 4,
 "nbformat_minor": 5
}
